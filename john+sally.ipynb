{
 "cells": [
  {
   "cell_type": "markdown",
   "id": "a8088571-8fd2-4548-9263-bcec0d2a6edf",
   "metadata": {},
   "source": [
    "## John and Sally (a case from Eric Sajdak)"
   ]
  },
  {
   "cell_type": "code",
   "execution_count": null,
   "id": "795d0d10-e364-46e0-9707-1fc5afd8bdfb",
   "metadata": {
    "scrolled": false
   },
   "outputs": [],
   "source": [
    "%%time\n",
    "import owl\n",
    "plan = owl.Plan([1962, 1962], [92, 92], 'John+Sally-spending')\n",
    "plan.setAccountBalances(taxable=[200, 200], taxDeferred=[750, 750], taxFree=[50, 50])\n",
    "# Unrealistic empty contributions and wages\n",
    "plan.readContributions('john+sally.xlsx')\n",
    "# plan.setInterpolationMethod('s-curve')\n",
    "plan.setAllocationRatios('individual', generic=[[[60, 40, 0, 0], [60, 40, 0, 0]], [[60, 40, 0, 0], [60, 40, 0, 0]]])\n",
    "plan.setSocialSecurity([36, 21.6], [67, 67])\n",
    "#plan.setSpendingProfile('smile')\n",
    "plan.setSpendingProfile('flat')\n",
    "plan.setRates('average', 1990, 2023)\n",
    "plan.solve('maxBequest', options={'maxRothConversion': 200, 'netSpending': 100})"
   ]
  },
  {
   "cell_type": "code",
   "execution_count": null,
   "id": "83d86eaa-4f7d-4d8a-a244-044b4c0665f4",
   "metadata": {
    "scrolled": false
   },
   "outputs": [],
   "source": [
    "plan.setDefaultPlots('today')\n",
    "plan.summary()\n",
    "plan.showNetSpending()\n",
    "plan.showGrossIncome()\n",
    "plan.showTaxes()\n",
    "plan.showSources()\n",
    "plan.showAccounts()\n",
    "plan.saveWorkbook(True)"
   ]
  }
 ],
 "metadata": {
  "kernelspec": {
   "display_name": "Python [conda env:rise] *",
   "language": "python",
   "name": "conda-env-rise-py"
  },
  "language_info": {
   "codemirror_mode": {
    "name": "ipython",
    "version": 3
   },
   "file_extension": ".py",
   "mimetype": "text/x-python",
   "name": "python",
   "nbconvert_exporter": "python",
   "pygments_lexer": "ipython3",
   "version": "3.12.7"
  }
 },
 "nbformat": 4,
 "nbformat_minor": 5
}
